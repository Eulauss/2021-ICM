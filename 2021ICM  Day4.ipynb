{
 "cells": [
  {
   "cell_type": "code",
   "execution_count": 44,
   "metadata": {},
   "outputs": [],
   "source": [
    "############################################第四天 重复网络的构建############################################\n",
    "import networkx as nx\n",
    "import pandas as pd\n",
    "import numpy as np\n",
    "import matplotlib.pyplot as plt\n",
    "from sklearn.metrics.pairwise import cosine_similarity\n",
    "\n",
    "#导入influence数据集\n",
    "df_infl = pd.read_csv('influence_data.csv',encoding = 'utf8')\n",
    "\n",
    "#删除艺术家名字的列，因为我们只用id来代表艺术家\n",
    "df_infl = df_infl.drop(columns = ['influencer_name','follower_name'])\n",
    "\n",
    "#构造图：\n",
    "DG = nx.DiGraph()\n",
    "for index,row in df_infl.iterrows():\n",
    "    #连出来有向边：\n",
    "    DG.add_edges_from([(row['influencer_id'], row['follower_id'])])\n",
    "    #为节点赋‘genre’属性\n",
    "    DG.nodes[row['influencer_id']]['genre'] = row['influencer_main_genre']\n",
    "    DG.nodes[row['follower_id']]['genre'] = row['follower_main_genre']\n",
    "    #为节点赋‘active_start’属性\n",
    "    DG.nodes[row['influencer_id']]['active_start'] = row['influencer_active_start']\n",
    "    DG.nodes[row['follower_id']]['active_start'] = row['follower_active_start']\n",
    "\n",
    "#为图的边赋值，假如是跨界影响，就为cross赋1，反之赋0\n",
    "for index,row in df_infl.iterrows():\n",
    "    if DG.nodes[row['influencer_id']]['genre'] == DG.nodes[row['follower_id']]['genre']:\n",
    "        DG.edges[row['influencer_id'],row['follower_id']]['cross'] = 0\n",
    "        #break\n",
    "    else:\n",
    "        DG.edges[row['influencer_id'],row['follower_id']]['cross'] = 1\n",
    "\n",
    "###########去掉空行傻逼节点：477787 （其余信息都空）\n",
    "DG.remove_node(477787)"
   ]
  },
  {
   "cell_type": "code",
   "execution_count": 7,
   "metadata": {},
   "outputs": [],
   "source": [
    "####需要的数据集再放进来\n",
    "df_art_vector = pd.read_csv('df_art_vector.csv',header=0,index_col=0)\n",
    "genre_music = pd.read_csv('genre_music.csv',header=0,index_col=0)\n",
    "people_genre = pd.read_csv('people_genre.csv',header=0,index_col=0)\n",
    "columns_need = ['danceability','energy','valence','tempo','loudness','mode','key','acousticness','instrumentalness','liveness','speechiness']\n",
    "active_start_list = [1930, 1940, 1950, 1960, 1970, 1980, 1990, 2000, 2010]\n",
    "genres_list = ['Avant-Garde', 'Country', 'Easy Listening', 'Pop/Rock', 'R&B;', \\\n",
    "               'Folk', 'New Age', 'International', 'Blues', 'Classical', 'Jazz', \\\n",
    "               'Comedy/Spoken', 'Unknown', 'Stage & Screen', 'Electronic', 'Religious', 'Vocal', 'Reggae', \"Children's\", 'Latin']"
   ]
  },
  {
   "cell_type": "code",
   "execution_count": 4,
   "metadata": {},
   "outputs": [
    {
     "data": {
      "text/plain": [
       "1970"
      ]
     },
     "execution_count": 4,
     "metadata": {},
     "output_type": "execute_result"
    }
   ],
   "source": [
    "DG.nodes[26510]['active_start']"
   ]
  },
  {
   "cell_type": "code",
   "execution_count": 12,
   "metadata": {},
   "outputs": [],
   "source": [
    "#制作艺术家和活跃年份的索引集：\n",
    "people_year = {}\n",
    "for node in DG.nodes:\n",
    "    people_year[node] = DG.nodes[node]['active_start']"
   ]
  },
  {
   "cell_type": "code",
   "execution_count": 13,
   "metadata": {},
   "outputs": [
    {
     "data": {
      "text/html": [
       "<div>\n",
       "<style scoped>\n",
       "    .dataframe tbody tr th:only-of-type {\n",
       "        vertical-align: middle;\n",
       "    }\n",
       "\n",
       "    .dataframe tbody tr th {\n",
       "        vertical-align: top;\n",
       "    }\n",
       "\n",
       "    .dataframe thead th {\n",
       "        text-align: right;\n",
       "    }\n",
       "</style>\n",
       "<table border=\"1\" class=\"dataframe\">\n",
       "  <thead>\n",
       "    <tr style=\"text-align: right;\">\n",
       "      <th></th>\n",
       "      <th>active_start</th>\n",
       "    </tr>\n",
       "  </thead>\n",
       "  <tbody>\n",
       "    <tr>\n",
       "      <th>759491</th>\n",
       "      <td>1980</td>\n",
       "    </tr>\n",
       "    <tr>\n",
       "      <th>74</th>\n",
       "      <td>1980</td>\n",
       "    </tr>\n",
       "    <tr>\n",
       "      <th>25462</th>\n",
       "      <td>1990</td>\n",
       "    </tr>\n",
       "    <tr>\n",
       "      <th>335</th>\n",
       "      <td>1990</td>\n",
       "    </tr>\n",
       "    <tr>\n",
       "      <th>66915</th>\n",
       "      <td>1960</td>\n",
       "    </tr>\n",
       "  </tbody>\n",
       "</table>\n",
       "</div>"
      ],
      "text/plain": [
       "        active_start\n",
       "759491          1980\n",
       "74              1980\n",
       "25462           1990\n",
       "335             1990\n",
       "66915           1960"
      ]
     },
     "execution_count": 13,
     "metadata": {},
     "output_type": "execute_result"
    }
   ],
   "source": [
    "people_year = pd.DataFrame.from_dict(people_year,orient='index')\n",
    "people_year.columns = ['active_start']\n",
    "people_year.head()"
   ]
  },
  {
   "cell_type": "code",
   "execution_count": 34,
   "metadata": {},
   "outputs": [
    {
     "data": {
      "text/plain": [
       "1990    1128\n",
       "1980     951\n",
       "1960     855\n",
       "1970     796\n",
       "2000     728\n",
       "1950     540\n",
       "1940     245\n",
       "2010     204\n",
       "1930     155\n",
       "Name: active_start, dtype: int64"
      ]
     },
     "execution_count": 34,
     "metadata": {},
     "output_type": "execute_result"
    }
   ],
   "source": [
    "people_year['active_start'].value_counts()"
   ]
  },
  {
   "cell_type": "code",
   "execution_count": null,
   "metadata": {},
   "outputs": [],
   "source": [
    "############################sensitive analysis  ############  删除掉2010年活跃的歌手，看看排名是否有明显变化###########"
   ]
  },
  {
   "cell_type": "code",
   "execution_count": 46,
   "metadata": {},
   "outputs": [],
   "source": [
    "#删除掉2010年活跃的歌手"
   ]
  },
  {
   "cell_type": "code",
   "execution_count": 48,
   "metadata": {},
   "outputs": [],
   "source": [
    "#####循环剔除掉2010年的歌手，这里迭代器不能是DG.nodes，因为删除一个会改变迭代器里的东西，故要作为列表保存再循环\n",
    "iterator = list(DG.nodes)\n",
    "for node in iterator:\n",
    "    if DG.nodes[node]['active_start'] == 2010:\n",
    "        DG.remove_node(node)"
   ]
  },
  {
   "cell_type": "code",
   "execution_count": 39,
   "metadata": {},
   "outputs": [
    {
     "data": {
      "text/plain": [
       "1970"
      ]
     },
     "execution_count": 39,
     "metadata": {},
     "output_type": "execute_result"
    }
   ],
   "source": [
    "DG.nodes[26510]['active_start']"
   ]
  },
  {
   "cell_type": "code",
   "execution_count": 49,
   "metadata": {},
   "outputs": [
    {
     "data": {
      "text/plain": [
       "5398"
      ]
     },
     "execution_count": 49,
     "metadata": {},
     "output_type": "execute_result"
    }
   ],
   "source": [
    "len(DG.nodes)"
   ]
  },
  {
   "cell_type": "code",
   "execution_count": null,
   "metadata": {},
   "outputs": [],
   "source": [
    "###############################为敏感性分析再做一组数据#########################"
   ]
  },
  {
   "cell_type": "code",
   "execution_count": null,
   "metadata": {},
   "outputs": [],
   "source": [
    "#删除掉1930年活跃的歌手"
   ]
  },
  {
   "cell_type": "code",
   "execution_count": 87,
   "metadata": {},
   "outputs": [],
   "source": [
    "#####循环剔除掉1930年的歌手，这里迭代器不能是DG.nodes，因为删除一个会改变迭代器里的东西，故要作为列表保存再循环\n",
    "iterator = list(DG.nodes)\n",
    "for node in iterator:\n",
    "    if DG.nodes[node]['active_start'] == 1930:\n",
    "        DG.remove_node(node)"
   ]
  },
  {
   "cell_type": "code",
   "execution_count": null,
   "metadata": {},
   "outputs": [],
   "source": []
  },
  {
   "cell_type": "code",
   "execution_count": null,
   "metadata": {},
   "outputs": [],
   "source": []
  },
  {
   "cell_type": "code",
   "execution_count": null,
   "metadata": {},
   "outputs": [],
   "source": []
  },
  {
   "cell_type": "code",
   "execution_count": null,
   "metadata": {},
   "outputs": [],
   "source": []
  },
  {
   "cell_type": "code",
   "execution_count": null,
   "metadata": {},
   "outputs": [],
   "source": []
  },
  {
   "cell_type": "code",
   "execution_count": null,
   "metadata": {},
   "outputs": [],
   "source": []
  },
  {
   "cell_type": "code",
   "execution_count": null,
   "metadata": {},
   "outputs": [],
   "source": []
  },
  {
   "cell_type": "code",
   "execution_count": null,
   "metadata": {},
   "outputs": [],
   "source": []
  },
  {
   "cell_type": "code",
   "execution_count": null,
   "metadata": {},
   "outputs": [],
   "source": []
  },
  {
   "cell_type": "code",
   "execution_count": null,
   "metadata": {},
   "outputs": [],
   "source": [
    "#######################重复之前的做法，求出新图的Influence_value#########################"
   ]
  },
  {
   "cell_type": "code",
   "execution_count": 92,
   "metadata": {},
   "outputs": [],
   "source": [
    "#1阶以内的邻居结果：\n",
    "one_order_infl = {}\n",
    "for node in DG.nodes:\n",
    "    one_order_infl[node] = len(nx.single_source_shortest_path_length(DG, node ,cutoff = 1))\n",
    "\n",
    "#求出一阶邻居的个数dataframe：\n",
    "one_order_infl = pd.DataFrame.from_dict(one_order_infl,orient='index')\n",
    "one_order_infl.columns = ['one_order_infl']\n",
    "\n",
    "#求出二阶邻居\n",
    "two_order_infl = {}\n",
    "for node in DG.nodes:\n",
    "    two_order_infl[node] = len(nx.single_source_shortest_path_length(DG, node ,cutoff = 2))\n",
    "\n",
    "#求出二阶邻居的个数dataframe：\n",
    "two_order_infl = pd.DataFrame.from_dict(two_order_infl,orient='index')\n",
    "two_order_infl.columns = ['two_order_infl']\n",
    "\n",
    "#求出来中继者的角色充当数：\n",
    "middle_infl = {}\n",
    "\n",
    "#求出middle者的个数：\n",
    "for node in DG.nodes:\n",
    "    middle_infl[node] = DG.out_degree(node) * DG.in_degree(node)\n",
    "    \n",
    "#求出middle者的个数dataframe：\n",
    "middle_infl = pd.DataFrame.from_dict(middle_infl,orient='index')\n",
    "middle_infl.columns = ['middle_infl']\n",
    "\n",
    "#标准化：\n",
    "one_order_infl = one_order_infl/max(one_order_infl['one_order_infl'])\n",
    "two_order_infl = two_order_infl/max(two_order_infl['two_order_infl'])\n",
    "middle_infl = middle_infl/max(middle_infl['middle_infl'])\n",
    "\n",
    "#将三种影响拼起来\n",
    "all_infl = one_order_infl.join(two_order_infl).join(middle_infl)\n",
    "\n",
    "#按层次分析法的权重 加权\n",
    "\n",
    "w = np.array([0.70143745,0.21323815,0.0853244])\n",
    "\n",
    "infl_value_sensitive = pd.DataFrame(all_infl.dot(w)).rename(columns = {0 : 'infl_value_sensitive_2'})"
   ]
  },
  {
   "cell_type": "code",
   "execution_count": 94,
   "metadata": {},
   "outputs": [],
   "source": [
    "#进行排序：\n",
    "infl_value_sensitive = infl_value_sensitive.sort_values('infl_value_sensitive_2',ascending = False)"
   ]
  },
  {
   "cell_type": "code",
   "execution_count": 95,
   "metadata": {},
   "outputs": [
    {
     "data": {
      "text/html": [
       "<div>\n",
       "<style scoped>\n",
       "    .dataframe tbody tr th:only-of-type {\n",
       "        vertical-align: middle;\n",
       "    }\n",
       "\n",
       "    .dataframe tbody tr th {\n",
       "        vertical-align: top;\n",
       "    }\n",
       "\n",
       "    .dataframe thead th {\n",
       "        text-align: right;\n",
       "    }\n",
       "</style>\n",
       "<table border=\"1\" class=\"dataframe\">\n",
       "  <thead>\n",
       "    <tr style=\"text-align: right;\">\n",
       "      <th></th>\n",
       "      <th>infl_value_sensitive_2</th>\n",
       "    </tr>\n",
       "  </thead>\n",
       "  <tbody>\n",
       "    <tr>\n",
       "      <th>754032</th>\n",
       "      <td>1.000000</td>\n",
       "    </tr>\n",
       "    <tr>\n",
       "      <th>66915</th>\n",
       "      <td>0.658842</td>\n",
       "    </tr>\n",
       "    <tr>\n",
       "      <th>894465</th>\n",
       "      <td>0.568412</td>\n",
       "    </tr>\n",
       "    <tr>\n",
       "      <th>531986</th>\n",
       "      <td>0.402185</td>\n",
       "    </tr>\n",
       "    <tr>\n",
       "      <th>354105</th>\n",
       "      <td>0.389285</td>\n",
       "    </tr>\n",
       "    <tr>\n",
       "      <th>139026</th>\n",
       "      <td>0.364969</td>\n",
       "    </tr>\n",
       "    <tr>\n",
       "      <th>180228</th>\n",
       "      <td>0.349280</td>\n",
       "    </tr>\n",
       "    <tr>\n",
       "      <th>100160</th>\n",
       "      <td>0.340259</td>\n",
       "    </tr>\n",
       "    <tr>\n",
       "      <th>120521</th>\n",
       "      <td>0.339848</td>\n",
       "    </tr>\n",
       "    <tr>\n",
       "      <th>41874</th>\n",
       "      <td>0.335667</td>\n",
       "    </tr>\n",
       "  </tbody>\n",
       "</table>\n",
       "</div>"
      ],
      "text/plain": [
       "        infl_value_sensitive_2\n",
       "754032                1.000000\n",
       "66915                 0.658842\n",
       "894465                0.568412\n",
       "531986                0.402185\n",
       "354105                0.389285\n",
       "139026                0.364969\n",
       "180228                0.349280\n",
       "100160                0.340259\n",
       "120521                0.339848\n",
       "41874                 0.335667"
      ]
     },
     "execution_count": 95,
     "metadata": {},
     "output_type": "execute_result"
    }
   ],
   "source": [
    "infl_value_sensitive.head(10)"
   ]
  },
  {
   "cell_type": "code",
   "execution_count": 96,
   "metadata": {},
   "outputs": [
    {
     "data": {
      "text/html": [
       "<div>\n",
       "<style scoped>\n",
       "    .dataframe tbody tr th:only-of-type {\n",
       "        vertical-align: middle;\n",
       "    }\n",
       "\n",
       "    .dataframe tbody tr th {\n",
       "        vertical-align: top;\n",
       "    }\n",
       "\n",
       "    .dataframe thead th {\n",
       "        text-align: right;\n",
       "    }\n",
       "</style>\n",
       "<table border=\"1\" class=\"dataframe\">\n",
       "  <thead>\n",
       "    <tr style=\"text-align: right;\">\n",
       "      <th></th>\n",
       "      <th>infl_value</th>\n",
       "    </tr>\n",
       "  </thead>\n",
       "  <tbody>\n",
       "    <tr>\n",
       "      <th>754032</th>\n",
       "      <td>1.000000</td>\n",
       "    </tr>\n",
       "    <tr>\n",
       "      <th>66915</th>\n",
       "      <td>0.671163</td>\n",
       "    </tr>\n",
       "    <tr>\n",
       "      <th>894465</th>\n",
       "      <td>0.575018</td>\n",
       "    </tr>\n",
       "    <tr>\n",
       "      <th>531986</th>\n",
       "      <td>0.405876</td>\n",
       "    </tr>\n",
       "    <tr>\n",
       "      <th>354105</th>\n",
       "      <td>0.392801</td>\n",
       "    </tr>\n",
       "    <tr>\n",
       "      <th>139026</th>\n",
       "      <td>0.364756</td>\n",
       "    </tr>\n",
       "    <tr>\n",
       "      <th>180228</th>\n",
       "      <td>0.351480</td>\n",
       "    </tr>\n",
       "    <tr>\n",
       "      <th>120521</th>\n",
       "      <td>0.339920</td>\n",
       "    </tr>\n",
       "    <tr>\n",
       "      <th>100160</th>\n",
       "      <td>0.337910</td>\n",
       "    </tr>\n",
       "    <tr>\n",
       "      <th>41874</th>\n",
       "      <td>0.334938</td>\n",
       "    </tr>\n",
       "  </tbody>\n",
       "</table>\n",
       "</div>"
      ],
      "text/plain": [
       "        infl_value\n",
       "754032    1.000000\n",
       "66915     0.671163\n",
       "894465    0.575018\n",
       "531986    0.405876\n",
       "354105    0.392801\n",
       "139026    0.364756\n",
       "180228    0.351480\n",
       "120521    0.339920\n",
       "100160    0.337910\n",
       "41874     0.334938"
      ]
     },
     "execution_count": 96,
     "metadata": {},
     "output_type": "execute_result"
    }
   ],
   "source": [
    "infl_value = pd.read_csv('infl_value.csv',header=0,index_col=0)\n",
    "infl_value.head(10)"
   ]
  },
  {
   "cell_type": "code",
   "execution_count": 97,
   "metadata": {},
   "outputs": [],
   "source": [
    "infl_summary_sensitive_analysis = infl_summary_sensitive_analysis.join(infl_value_sensitive)"
   ]
  },
  {
   "cell_type": "code",
   "execution_count": 98,
   "metadata": {},
   "outputs": [
    {
     "data": {
      "text/html": [
       "<div>\n",
       "<style scoped>\n",
       "    .dataframe tbody tr th:only-of-type {\n",
       "        vertical-align: middle;\n",
       "    }\n",
       "\n",
       "    .dataframe tbody tr th {\n",
       "        vertical-align: top;\n",
       "    }\n",
       "\n",
       "    .dataframe thead th {\n",
       "        text-align: right;\n",
       "    }\n",
       "</style>\n",
       "<table border=\"1\" class=\"dataframe\">\n",
       "  <thead>\n",
       "    <tr style=\"text-align: right;\">\n",
       "      <th></th>\n",
       "      <th>infl_value_sensitive</th>\n",
       "      <th>infl_value</th>\n",
       "      <th>infl_value_sensitive_2</th>\n",
       "    </tr>\n",
       "  </thead>\n",
       "  <tbody>\n",
       "    <tr>\n",
       "      <th>754032</th>\n",
       "      <td>1.000000</td>\n",
       "      <td>1.000000</td>\n",
       "      <td>1.000000</td>\n",
       "    </tr>\n",
       "    <tr>\n",
       "      <th>66915</th>\n",
       "      <td>0.671657</td>\n",
       "      <td>0.671163</td>\n",
       "      <td>0.658842</td>\n",
       "    </tr>\n",
       "    <tr>\n",
       "      <th>894465</th>\n",
       "      <td>0.576843</td>\n",
       "      <td>0.575018</td>\n",
       "      <td>0.568412</td>\n",
       "    </tr>\n",
       "    <tr>\n",
       "      <th>531986</th>\n",
       "      <td>0.403446</td>\n",
       "      <td>0.405876</td>\n",
       "      <td>0.402185</td>\n",
       "    </tr>\n",
       "    <tr>\n",
       "      <th>354105</th>\n",
       "      <td>0.394846</td>\n",
       "      <td>0.392801</td>\n",
       "      <td>0.389285</td>\n",
       "    </tr>\n",
       "  </tbody>\n",
       "</table>\n",
       "</div>"
      ],
      "text/plain": [
       "        infl_value_sensitive  infl_value  infl_value_sensitive_2\n",
       "754032              1.000000    1.000000                1.000000\n",
       "66915               0.671657    0.671163                0.658842\n",
       "894465              0.576843    0.575018                0.568412\n",
       "531986              0.403446    0.405876                0.402185\n",
       "354105              0.394846    0.392801                0.389285"
      ]
     },
     "execution_count": 98,
     "metadata": {},
     "output_type": "execute_result"
    }
   ],
   "source": [
    "infl_summary_sensitive_analysis.head()"
   ]
  },
  {
   "cell_type": "code",
   "execution_count": 99,
   "metadata": {},
   "outputs": [
    {
     "data": {
      "text/html": [
       "<div>\n",
       "<style scoped>\n",
       "    .dataframe tbody tr th:only-of-type {\n",
       "        vertical-align: middle;\n",
       "    }\n",
       "\n",
       "    .dataframe tbody tr th {\n",
       "        vertical-align: top;\n",
       "    }\n",
       "\n",
       "    .dataframe thead th {\n",
       "        text-align: right;\n",
       "    }\n",
       "</style>\n",
       "<table border=\"1\" class=\"dataframe\">\n",
       "  <thead>\n",
       "    <tr style=\"text-align: right;\">\n",
       "      <th></th>\n",
       "      <th>infl_value_sensitive</th>\n",
       "      <th>infl_value</th>\n",
       "      <th>infl_value_sensitive_2</th>\n",
       "    </tr>\n",
       "  </thead>\n",
       "  <tbody>\n",
       "    <tr>\n",
       "      <th>infl_value_sensitive</th>\n",
       "      <td>1.000000</td>\n",
       "      <td>0.999702</td>\n",
       "      <td>0.999925</td>\n",
       "    </tr>\n",
       "    <tr>\n",
       "      <th>infl_value</th>\n",
       "      <td>0.999702</td>\n",
       "      <td>1.000000</td>\n",
       "      <td>0.999637</td>\n",
       "    </tr>\n",
       "    <tr>\n",
       "      <th>infl_value_sensitive_2</th>\n",
       "      <td>0.999925</td>\n",
       "      <td>0.999637</td>\n",
       "      <td>1.000000</td>\n",
       "    </tr>\n",
       "  </tbody>\n",
       "</table>\n",
       "</div>"
      ],
      "text/plain": [
       "                        infl_value_sensitive  infl_value  \\\n",
       "infl_value_sensitive                1.000000    0.999702   \n",
       "infl_value                          0.999702    1.000000   \n",
       "infl_value_sensitive_2              0.999925    0.999637   \n",
       "\n",
       "                        infl_value_sensitive_2  \n",
       "infl_value_sensitive                  0.999925  \n",
       "infl_value                            0.999637  \n",
       "infl_value_sensitive_2                1.000000  "
      ]
     },
     "execution_count": 99,
     "metadata": {},
     "output_type": "execute_result"
    }
   ],
   "source": [
    "infl_summary_sensitive_analysis.corr()"
   ]
  },
  {
   "cell_type": "code",
   "execution_count": 100,
   "metadata": {},
   "outputs": [
    {
     "data": {
      "text/plain": [
       "<matplotlib.axes._subplots.AxesSubplot at 0x25948f66d60>"
      ]
     },
     "execution_count": 100,
     "metadata": {},
     "output_type": "execute_result"
    },
    {
     "data": {
      "image/png": "[encoded data removed]",
      "text/plain": [
       "<Figure size 432x288 with 1 Axes>"
      ]
     },
     "metadata": {
      "needs_background": "light"
     },
     "output_type": "display_data"
    }
   ],
   "source": [
    "infl_summary_sensitive_analysis.reset_index().iloc[:20,1:].plot()"
   ]
  },
  {
   "cell_type": "code",
   "execution_count": 101,
   "metadata": {},
   "outputs": [],
   "source": [
    "infl_summary_sensitive_analysis.reset_index().to_csv('infl_summary_sensitive_analysis_2.csv')"
   ]
  },
  {
   "cell_type": "code",
   "execution_count": null,
   "metadata": {},
   "outputs": [],
   "source": [
    "###################################分析传染程度（contagious_value）的敏感性#####################################33"
   ]
  },
  {
   "cell_type": "code",
   "execution_count": null,
   "metadata": {},
   "outputs": [],
   "source": []
  },
  {
   "cell_type": "code",
   "execution_count": 102,
   "metadata": {},
   "outputs": [],
   "source": [
    "#对边遍历，将差值绝对值向量求和\n",
    "character_error = np.array([0]*11)\n",
    "for (u,v) in DG.edges:\n",
    "    character_error = character_error + np.absolute( np.array(df_art_vector.loc[u][columns_need])  \\\n",
    "                                                    - np.array(df_art_vector.loc[v][columns_need]) )\n",
    "\n",
    "contagiosity_sensitive_2 = pd.DataFrame(1.5 - 10*character_error/sum(character_error)).T\n",
    "contagiosity_sensitive_2.columns = columns_need\n",
    "contagiosity_sensitive_2.index = ['characteristic_contagiosity_sensitive_2']"
   ]
  },
  {
   "cell_type": "code",
   "execution_count": 103,
   "metadata": {},
   "outputs": [],
   "source": [
    "####找回来我们之前算的contagiosity \n",
    "contagiosity = pd.read_csv('characteristic_contagiosity.csv',header=0,index_col=0)"
   ]
  },
  {
   "cell_type": "code",
   "execution_count": 104,
   "metadata": {},
   "outputs": [],
   "source": [
    "contagiosity_sensitive_2 = pd.concat([contagiosity_sensitive,contagiosity_sensitive_2])"
   ]
  },
  {
   "cell_type": "code",
   "execution_count": 105,
   "metadata": {},
   "outputs": [
    {
     "data": {
      "text/html": [
       "<div>\n",
       "<style scoped>\n",
       "    .dataframe tbody tr th:only-of-type {\n",
       "        vertical-align: middle;\n",
       "    }\n",
       "\n",
       "    .dataframe tbody tr th {\n",
       "        vertical-align: top;\n",
       "    }\n",
       "\n",
       "    .dataframe thead th {\n",
       "        text-align: right;\n",
       "    }\n",
       "</style>\n",
       "<table border=\"1\" class=\"dataframe\">\n",
       "  <thead>\n",
       "    <tr style=\"text-align: right;\">\n",
       "      <th></th>\n",
       "      <th>danceability</th>\n",
       "      <th>energy</th>\n",
       "      <th>valence</th>\n",
       "      <th>tempo</th>\n",
       "      <th>loudness</th>\n",
       "      <th>mode</th>\n",
       "      <th>key</th>\n",
       "      <th>acousticness</th>\n",
       "      <th>instrumentalness</th>\n",
       "      <th>liveness</th>\n",
       "      <th>speechiness</th>\n",
       "    </tr>\n",
       "  </thead>\n",
       "  <tbody>\n",
       "    <tr>\n",
       "      <th>characteristic_contagiosity</th>\n",
       "      <td>0.562919</td>\n",
       "      <td>0.728570</td>\n",
       "      <td>0.478212</td>\n",
       "      <td>0.142890</td>\n",
       "      <td>0.661941</td>\n",
       "      <td>0.818704</td>\n",
       "      <td>0.292671</td>\n",
       "      <td>0.807121</td>\n",
       "      <td>0.842790</td>\n",
       "      <td>0.262149</td>\n",
       "      <td>0.902033</td>\n",
       "    </tr>\n",
       "    <tr>\n",
       "      <th>characteristic_contagiosity_sensitive</th>\n",
       "      <td>0.562794</td>\n",
       "      <td>0.727676</td>\n",
       "      <td>0.478951</td>\n",
       "      <td>0.144240</td>\n",
       "      <td>0.661088</td>\n",
       "      <td>0.823857</td>\n",
       "      <td>0.291083</td>\n",
       "      <td>0.807072</td>\n",
       "      <td>0.836259</td>\n",
       "      <td>0.262456</td>\n",
       "      <td>0.904524</td>\n",
       "    </tr>\n",
       "    <tr>\n",
       "      <th>characteristic_contagiosity_sensitive_2</th>\n",
       "      <td>0.562681</td>\n",
       "      <td>0.735059</td>\n",
       "      <td>0.477450</td>\n",
       "      <td>0.138274</td>\n",
       "      <td>0.663343</td>\n",
       "      <td>0.818840</td>\n",
       "      <td>0.281827</td>\n",
       "      <td>0.819526</td>\n",
       "      <td>0.834722</td>\n",
       "      <td>0.258454</td>\n",
       "      <td>0.909824</td>\n",
       "    </tr>\n",
       "  </tbody>\n",
       "</table>\n",
       "</div>"
      ],
      "text/plain": [
       "                                         danceability    energy   valence  \\\n",
       "characteristic_contagiosity                  0.562919  0.728570  0.478212   \n",
       "characteristic_contagiosity_sensitive        0.562794  0.727676  0.478951   \n",
       "characteristic_contagiosity_sensitive_2      0.562681  0.735059  0.477450   \n",
       "\n",
       "                                            tempo  loudness      mode  \\\n",
       "characteristic_contagiosity              0.142890  0.661941  0.818704   \n",
       "characteristic_contagiosity_sensitive    0.144240  0.661088  0.823857   \n",
       "characteristic_contagiosity_sensitive_2  0.138274  0.663343  0.818840   \n",
       "\n",
       "                                              key  acousticness  \\\n",
       "characteristic_contagiosity              0.292671      0.807121   \n",
       "characteristic_contagiosity_sensitive    0.291083      0.807072   \n",
       "characteristic_contagiosity_sensitive_2  0.281827      0.819526   \n",
       "\n",
       "                                         instrumentalness  liveness  \\\n",
       "characteristic_contagiosity                      0.842790  0.262149   \n",
       "characteristic_contagiosity_sensitive            0.836259  0.262456   \n",
       "characteristic_contagiosity_sensitive_2          0.834722  0.258454   \n",
       "\n",
       "                                         speechiness  \n",
       "characteristic_contagiosity                 0.902033  \n",
       "characteristic_contagiosity_sensitive       0.904524  \n",
       "characteristic_contagiosity_sensitive_2     0.909824  "
      ]
     },
     "execution_count": 105,
     "metadata": {},
     "output_type": "execute_result"
    }
   ],
   "source": [
    "contagiosity_sensitive_2"
   ]
  },
  {
   "cell_type": "code",
   "execution_count": 106,
   "metadata": {},
   "outputs": [
    {
     "data": {
      "text/html": [
       "<div>\n",
       "<style scoped>\n",
       "    .dataframe tbody tr th:only-of-type {\n",
       "        vertical-align: middle;\n",
       "    }\n",
       "\n",
       "    .dataframe tbody tr th {\n",
       "        vertical-align: top;\n",
       "    }\n",
       "\n",
       "    .dataframe thead th {\n",
       "        text-align: right;\n",
       "    }\n",
       "</style>\n",
       "<table border=\"1\" class=\"dataframe\">\n",
       "  <thead>\n",
       "    <tr style=\"text-align: right;\">\n",
       "      <th></th>\n",
       "      <th>characteristic_contagiosity</th>\n",
       "      <th>characteristic_contagiosity_sensitive</th>\n",
       "      <th>characteristic_contagiosity_sensitive_2</th>\n",
       "    </tr>\n",
       "  </thead>\n",
       "  <tbody>\n",
       "    <tr>\n",
       "      <th>characteristic_contagiosity</th>\n",
       "      <td>1.000000</td>\n",
       "      <td>0.999941</td>\n",
       "      <td>0.999782</td>\n",
       "    </tr>\n",
       "    <tr>\n",
       "      <th>characteristic_contagiosity_sensitive</th>\n",
       "      <td>0.999941</td>\n",
       "      <td>1.000000</td>\n",
       "      <td>0.999833</td>\n",
       "    </tr>\n",
       "    <tr>\n",
       "      <th>characteristic_contagiosity_sensitive_2</th>\n",
       "      <td>0.999782</td>\n",
       "      <td>0.999833</td>\n",
       "      <td>1.000000</td>\n",
       "    </tr>\n",
       "  </tbody>\n",
       "</table>\n",
       "</div>"
      ],
      "text/plain": [
       "                                         characteristic_contagiosity  \\\n",
       "characteristic_contagiosity                                 1.000000   \n",
       "characteristic_contagiosity_sensitive                       0.999941   \n",
       "characteristic_contagiosity_sensitive_2                     0.999782   \n",
       "\n",
       "                                         characteristic_contagiosity_sensitive  \\\n",
       "characteristic_contagiosity                                           0.999941   \n",
       "characteristic_contagiosity_sensitive                                 1.000000   \n",
       "characteristic_contagiosity_sensitive_2                               0.999833   \n",
       "\n",
       "                                         characteristic_contagiosity_sensitive_2  \n",
       "characteristic_contagiosity                                             0.999782  \n",
       "characteristic_contagiosity_sensitive                                   0.999833  \n",
       "characteristic_contagiosity_sensitive_2                                 1.000000  "
      ]
     },
     "execution_count": 106,
     "metadata": {},
     "output_type": "execute_result"
    }
   ],
   "source": [
    "contagiosity_sensitive_2.T.corr()"
   ]
  },
  {
   "cell_type": "code",
   "execution_count": 108,
   "metadata": {},
   "outputs": [],
   "source": [
    "contagiosity_sensitive_2.to_csv('contagiosity_sensitive_analysis_2.csv')"
   ]
  },
  {
   "cell_type": "code",
   "execution_count": null,
   "metadata": {},
   "outputs": [],
   "source": []
  },
  {
   "cell_type": "code",
   "execution_count": null,
   "metadata": {},
   "outputs": [],
   "source": []
  },
  {
   "cell_type": "code",
   "execution_count": null,
   "metadata": {},
   "outputs": [],
   "source": []
  },
  {
   "cell_type": "code",
   "execution_count": null,
   "metadata": {},
   "outputs": [],
   "source": []
  },
  {
   "cell_type": "code",
   "execution_count": null,
   "metadata": {},
   "outputs": [],
   "source": []
  },
  {
   "cell_type": "code",
   "execution_count": null,
   "metadata": {},
   "outputs": [],
   "source": []
  },
  {
   "cell_type": "code",
   "execution_count": null,
   "metadata": {},
   "outputs": [],
   "source": []
  },
  {
   "cell_type": "code",
   "execution_count": null,
   "metadata": {},
   "outputs": [],
   "source": []
  },
  {
   "cell_type": "code",
   "execution_count": 14,
   "metadata": {},
   "outputs": [],
   "source": [
    "#读取artist数据：\n",
    "df_art = pd.read_csv('data_by_artist.csv')\n",
    "df_art.set_index(['artist_id'], inplace=True)\n",
    "#将流派索引合并进来：\n",
    "df_art = people_genre.join(df_art)\n",
    "#将活跃年份索引合并进来：\n",
    "df_art = people_year.join(df_art)\n",
    "#去掉无关列：\n",
    "df_art =  df_art.drop(columns = ['artist_name','duration_ms','popularity'])\n",
    "df_art_grouped = df_art.groupby(by = ['genre'])"
   ]
  },
  {
   "cell_type": "code",
   "execution_count": 18,
   "metadata": {},
   "outputs": [],
   "source": [
    "####单独提取Pop/Rock流派，后续再按年份分\n",
    "df_art_P_R = df_art_grouped.get_group('Pop/Rock').drop(columns = ['genre'])"
   ]
  },
  {
   "cell_type": "code",
   "execution_count": 19,
   "metadata": {},
   "outputs": [],
   "source": [
    "df_art_P_R_grouped = df_art_P_R.groupby(by = ['active_start'])"
   ]
  },
  {
   "cell_type": "code",
   "execution_count": 20,
   "metadata": {},
   "outputs": [
    {
     "data": {
      "text/html": [
       "<div>\n",
       "<style scoped>\n",
       "    .dataframe tbody tr th:only-of-type {\n",
       "        vertical-align: middle;\n",
       "    }\n",
       "\n",
       "    .dataframe tbody tr th {\n",
       "        vertical-align: top;\n",
       "    }\n",
       "\n",
       "    .dataframe thead th {\n",
       "        text-align: right;\n",
       "    }\n",
       "</style>\n",
       "<table border=\"1\" class=\"dataframe\">\n",
       "  <thead>\n",
       "    <tr style=\"text-align: right;\">\n",
       "      <th></th>\n",
       "      <th>active_start</th>\n",
       "      <th>danceability</th>\n",
       "      <th>energy</th>\n",
       "      <th>valence</th>\n",
       "      <th>tempo</th>\n",
       "      <th>loudness</th>\n",
       "      <th>mode</th>\n",
       "      <th>key</th>\n",
       "      <th>acousticness</th>\n",
       "      <th>instrumentalness</th>\n",
       "      <th>liveness</th>\n",
       "      <th>speechiness</th>\n",
       "      <th>count</th>\n",
       "    </tr>\n",
       "  </thead>\n",
       "  <tbody>\n",
       "    <tr>\n",
       "      <th>759491</th>\n",
       "      <td>1980</td>\n",
       "      <td>0.361714</td>\n",
       "      <td>0.859571</td>\n",
       "      <td>0.419286</td>\n",
       "      <td>135.678000</td>\n",
       "      <td>-7.351286</td>\n",
       "      <td>1.0</td>\n",
       "      <td>7.0</td>\n",
       "      <td>0.036975</td>\n",
       "      <td>0.004043</td>\n",
       "      <td>0.248743</td>\n",
       "      <td>0.152171</td>\n",
       "      <td>14.0</td>\n",
       "    </tr>\n",
       "    <tr>\n",
       "      <th>74</th>\n",
       "      <td>1980</td>\n",
       "      <td>0.578000</td>\n",
       "      <td>0.865000</td>\n",
       "      <td>0.487000</td>\n",
       "      <td>117.114000</td>\n",
       "      <td>-7.062000</td>\n",
       "      <td>1.0</td>\n",
       "      <td>9.0</td>\n",
       "      <td>0.026400</td>\n",
       "      <td>0.001850</td>\n",
       "      <td>0.365000</td>\n",
       "      <td>0.046000</td>\n",
       "      <td>2.0</td>\n",
       "    </tr>\n",
       "    <tr>\n",
       "      <th>335</th>\n",
       "      <td>1990</td>\n",
       "      <td>0.540515</td>\n",
       "      <td>0.494879</td>\n",
       "      <td>0.491576</td>\n",
       "      <td>126.211818</td>\n",
       "      <td>-12.460424</td>\n",
       "      <td>1.0</td>\n",
       "      <td>0.0</td>\n",
       "      <td>0.187772</td>\n",
       "      <td>0.143038</td>\n",
       "      <td>0.142439</td>\n",
       "      <td>0.037918</td>\n",
       "      <td>33.0</td>\n",
       "    </tr>\n",
       "    <tr>\n",
       "      <th>66915</th>\n",
       "      <td>1960</td>\n",
       "      <td>0.512598</td>\n",
       "      <td>0.477932</td>\n",
       "      <td>0.551934</td>\n",
       "      <td>126.160149</td>\n",
       "      <td>-11.184330</td>\n",
       "      <td>1.0</td>\n",
       "      <td>7.0</td>\n",
       "      <td>0.562567</td>\n",
       "      <td>0.034211</td>\n",
       "      <td>0.308978</td>\n",
       "      <td>0.064535</td>\n",
       "      <td>1092.0</td>\n",
       "    </tr>\n",
       "    <tr>\n",
       "      <th>71209</th>\n",
       "      <td>1950</td>\n",
       "      <td>0.502849</td>\n",
       "      <td>0.252807</td>\n",
       "      <td>0.338918</td>\n",
       "      <td>116.601288</td>\n",
       "      <td>-15.844986</td>\n",
       "      <td>1.0</td>\n",
       "      <td>9.0</td>\n",
       "      <td>0.729745</td>\n",
       "      <td>0.027331</td>\n",
       "      <td>0.149112</td>\n",
       "      <td>0.038779</td>\n",
       "      <td>146.0</td>\n",
       "    </tr>\n",
       "  </tbody>\n",
       "</table>\n",
       "</div>"
      ],
      "text/plain": [
       "        active_start  danceability    energy   valence       tempo   loudness  \\\n",
       "759491          1980      0.361714  0.859571  0.419286  135.678000  -7.351286   \n",
       "74              1980      0.578000  0.865000  0.487000  117.114000  -7.062000   \n",
       "335             1990      0.540515  0.494879  0.491576  126.211818 -12.460424   \n",
       "66915           1960      0.512598  0.477932  0.551934  126.160149 -11.184330   \n",
       "71209           1950      0.502849  0.252807  0.338918  116.601288 -15.844986   \n",
       "\n",
       "        mode  key  acousticness  instrumentalness  liveness  speechiness  \\\n",
       "759491   1.0  7.0      0.036975          0.004043  0.248743     0.152171   \n",
       "74       1.0  9.0      0.026400          0.001850  0.365000     0.046000   \n",
       "335      1.0  0.0      0.187772          0.143038  0.142439     0.037918   \n",
       "66915    1.0  7.0      0.562567          0.034211  0.308978     0.064535   \n",
       "71209    1.0  9.0      0.729745          0.027331  0.149112     0.038779   \n",
       "\n",
       "         count  \n",
       "759491    14.0  \n",
       "74         2.0  \n",
       "335       33.0  \n",
       "66915   1092.0  \n",
       "71209    146.0  "
      ]
     },
     "execution_count": 20,
     "metadata": {},
     "output_type": "execute_result"
    }
   ],
   "source": [
    "df_art_P_R.head()"
   ]
  },
  {
   "cell_type": "code",
   "execution_count": 22,
   "metadata": {},
   "outputs": [
    {
     "data": {
      "text/plain": [
       "1990    664\n",
       "1980    612\n",
       "2000    480\n",
       "1970    419\n",
       "1960    410\n",
       "2010    116\n",
       "1950    103\n",
       "1940      2\n",
       "1930      1\n",
       "Name: active_start, dtype: int64"
      ]
     },
     "execution_count": 22,
     "metadata": {},
     "output_type": "execute_result"
    }
   ],
   "source": [
    "df_art_P_R['active_start'].value_counts()"
   ]
  },
  {
   "cell_type": "code",
   "execution_count": null,
   "metadata": {},
   "outputs": [],
   "source": []
  },
  {
   "cell_type": "code",
   "execution_count": null,
   "metadata": {},
   "outputs": [],
   "source": []
  },
  {
   "cell_type": "code",
   "execution_count": 23,
   "metadata": {},
   "outputs": [],
   "source": [
    "#计算按年份，pop/rock流派的音乐特点变化，得到相应的字典\n",
    "df_art_P_R_year = {}\n",
    "for year in active_start_list:\n",
    "    P_R_year = df_art_P_R_grouped.get_group(year)\n",
    "    year_vector = []\n",
    "    for column in columns_need:\n",
    "        mean = (P_R_year[column] * P_R_year['count']).sum()/P_R_year['count'].sum()\n",
    "        year_vector.append(mean)\n",
    "    df_art_P_R_year[year] = year_vector\n",
    "df_art_P_R_year = pd.DataFrame(df_art_P_R_year)"
   ]
  },
  {
   "cell_type": "code",
   "execution_count": 24,
   "metadata": {},
   "outputs": [],
   "source": [
    "#得到各个年份的音乐特点向量dataframe\n",
    "df_art_P_R_year = df_art_P_R_year.T\n",
    "df_art_P_R_year.columns = ['danceability','energy','valence','tempo','loudness','mode', \\\n",
    "                       'key','acousticness','instrumentalness','liveness','speechiness']"
   ]
  },
  {
   "cell_type": "code",
   "execution_count": 25,
   "metadata": {},
   "outputs": [
    {
     "data": {
      "text/html": [
       "<div>\n",
       "<style scoped>\n",
       "    .dataframe tbody tr th:only-of-type {\n",
       "        vertical-align: middle;\n",
       "    }\n",
       "\n",
       "    .dataframe tbody tr th {\n",
       "        vertical-align: top;\n",
       "    }\n",
       "\n",
       "    .dataframe thead th {\n",
       "        text-align: right;\n",
       "    }\n",
       "</style>\n",
       "<table border=\"1\" class=\"dataframe\">\n",
       "  <thead>\n",
       "    <tr style=\"text-align: right;\">\n",
       "      <th></th>\n",
       "      <th>danceability</th>\n",
       "      <th>energy</th>\n",
       "      <th>valence</th>\n",
       "      <th>tempo</th>\n",
       "      <th>loudness</th>\n",
       "      <th>mode</th>\n",
       "      <th>key</th>\n",
       "      <th>acousticness</th>\n",
       "      <th>instrumentalness</th>\n",
       "      <th>liveness</th>\n",
       "      <th>speechiness</th>\n",
       "    </tr>\n",
       "  </thead>\n",
       "  <tbody>\n",
       "    <tr>\n",
       "      <th>1930</th>\n",
       "      <td>0.464500</td>\n",
       "      <td>0.545500</td>\n",
       "      <td>0.541167</td>\n",
       "      <td>114.825000</td>\n",
       "      <td>-9.204667</td>\n",
       "      <td>1.000000</td>\n",
       "      <td>4.000000</td>\n",
       "      <td>0.709667</td>\n",
       "      <td>0.000000</td>\n",
       "      <td>0.256500</td>\n",
       "      <td>0.041367</td>\n",
       "    </tr>\n",
       "    <tr>\n",
       "      <th>1940</th>\n",
       "      <td>0.627392</td>\n",
       "      <td>0.551280</td>\n",
       "      <td>0.690458</td>\n",
       "      <td>113.079308</td>\n",
       "      <td>-11.794342</td>\n",
       "      <td>1.000000</td>\n",
       "      <td>0.833333</td>\n",
       "      <td>0.527493</td>\n",
       "      <td>0.019084</td>\n",
       "      <td>0.175693</td>\n",
       "      <td>0.053243</td>\n",
       "    </tr>\n",
       "    <tr>\n",
       "      <th>1950</th>\n",
       "      <td>0.524107</td>\n",
       "      <td>0.496558</td>\n",
       "      <td>0.619201</td>\n",
       "      <td>117.689167</td>\n",
       "      <td>-11.676612</td>\n",
       "      <td>0.998351</td>\n",
       "      <td>4.643809</td>\n",
       "      <td>0.549034</td>\n",
       "      <td>0.089818</td>\n",
       "      <td>0.220886</td>\n",
       "      <td>0.056108</td>\n",
       "    </tr>\n",
       "    <tr>\n",
       "      <th>1960</th>\n",
       "      <td>0.501910</td>\n",
       "      <td>0.562945</td>\n",
       "      <td>0.563900</td>\n",
       "      <td>121.524779</td>\n",
       "      <td>-10.865514</td>\n",
       "      <td>0.982033</td>\n",
       "      <td>4.976991</td>\n",
       "      <td>0.345754</td>\n",
       "      <td>0.090398</td>\n",
       "      <td>0.236861</td>\n",
       "      <td>0.051637</td>\n",
       "    </tr>\n",
       "    <tr>\n",
       "      <th>1970</th>\n",
       "      <td>0.512119</td>\n",
       "      <td>0.661882</td>\n",
       "      <td>0.562141</td>\n",
       "      <td>125.499456</td>\n",
       "      <td>-9.824307</td>\n",
       "      <td>0.952496</td>\n",
       "      <td>5.271991</td>\n",
       "      <td>0.214210</td>\n",
       "      <td>0.100306</td>\n",
       "      <td>0.223797</td>\n",
       "      <td>0.056676</td>\n",
       "    </tr>\n",
       "  </tbody>\n",
       "</table>\n",
       "</div>"
      ],
      "text/plain": [
       "      danceability    energy   valence       tempo   loudness      mode  \\\n",
       "1930      0.464500  0.545500  0.541167  114.825000  -9.204667  1.000000   \n",
       "1940      0.627392  0.551280  0.690458  113.079308 -11.794342  1.000000   \n",
       "1950      0.524107  0.496558  0.619201  117.689167 -11.676612  0.998351   \n",
       "1960      0.501910  0.562945  0.563900  121.524779 -10.865514  0.982033   \n",
       "1970      0.512119  0.661882  0.562141  125.499456  -9.824307  0.952496   \n",
       "\n",
       "           key  acousticness  instrumentalness  liveness  speechiness  \n",
       "1930  4.000000      0.709667          0.000000  0.256500     0.041367  \n",
       "1940  0.833333      0.527493          0.019084  0.175693     0.053243  \n",
       "1950  4.643809      0.549034          0.089818  0.220886     0.056108  \n",
       "1960  4.976991      0.345754          0.090398  0.236861     0.051637  \n",
       "1970  5.271991      0.214210          0.100306  0.223797     0.056676  "
      ]
     },
     "execution_count": 25,
     "metadata": {},
     "output_type": "execute_result"
    }
   ],
   "source": [
    "df_art_P_R_year.head()"
   ]
  },
  {
   "cell_type": "code",
   "execution_count": 26,
   "metadata": {},
   "outputs": [
    {
     "data": {
      "text/plain": [
       "<matplotlib.axes._subplots.AxesSubplot at 0x25949d26070>"
      ]
     },
     "execution_count": 26,
     "metadata": {},
     "output_type": "execute_result"
    },
    {
     "data": {
      "image/png": "[encoded data removed]",
      "text/plain": [
       "<Figure size 432x288 with 1 Axes>"
      ]
     },
     "metadata": {
      "needs_background": "light"
     },
     "output_type": "display_data"
    }
   ],
   "source": [
    "df_art_P_R_year.plot()"
   ]
  },
  {
   "cell_type": "code",
   "execution_count": 109,
   "metadata": {},
   "outputs": [
    {
     "data": {
      "text/plain": [
       "<matplotlib.axes._subplots.AxesSubplot at 0x2594959f370>"
      ]
     },
     "execution_count": 109,
     "metadata": {},
     "output_type": "execute_result"
    },
    {
     "data": {
      "image/png": "[encoded data removed]",
      "text/plain": [
       "<Figure size 432x288 with 1 Axes>"
      ]
     },
     "metadata": {
      "needs_background": "light"
     },
     "output_type": "display_data"
    }
   ],
   "source": [
    "df_art_P_R_year.drop(columns = ['tempo','key','loudness','mode','danceability','instrumentalness','liveness','speechiness']).plot()"
   ]
  },
  {
   "cell_type": "code",
   "execution_count": 30,
   "metadata": {},
   "outputs": [],
   "source": [
    "df_art_P_R_year.to_csv('6 df_art_P_R_year.csv')"
   ]
  },
  {
   "cell_type": "code",
   "execution_count": null,
   "metadata": {},
   "outputs": [],
   "source": []
  },
  {
   "cell_type": "code",
   "execution_count": 110,
   "metadata": {},
   "outputs": [
    {
     "ename": "ModuleNotFoundError",
     "evalue": "No module named 'fffff'",
     "output_type": "error",
     "traceback": [
      "\u001b[1;31m---------------------------------------------------------------------------\u001b[0m",
      "\u001b[1;31mModuleNotFoundError\u001b[0m                       Traceback (most recent call last)",
      "\u001b[1;32m<ipython-input-110-19c168f3afdf>\u001b[0m in \u001b[0;36m<module>\u001b[1;34m\u001b[0m\n\u001b[1;32m----> 1\u001b[1;33m \u001b[1;32mimport\u001b[0m \u001b[0mfffff\u001b[0m\u001b[1;33m\u001b[0m\u001b[1;33m\u001b[0m\u001b[0m\n\u001b[0m",
      "\u001b[1;31mModuleNotFoundError\u001b[0m: No module named 'fffff'"
     ]
    }
   ],
   "source": [
    "import fffff"
   ]
  },
  {
   "cell_type": "code",
   "execution_count": null,
   "metadata": {},
   "outputs": [],
   "source": []
  },
  {
   "cell_type": "code",
   "execution_count": null,
   "metadata": {},
   "outputs": [],
   "source": [
    "############################################    网络构建   ############################################\n",
    "import networkx as nx\n",
    "import pandas as pd\n",
    "import numpy as np\n",
    "\n",
    "#导入influence数据集\n",
    "df_infl = pd.read_csv('influence_data.csv',encoding = 'utf8')\n",
    "\n",
    "#删除艺术家名字的列，因为我们只用id来代表艺术家\n",
    "df_infl = df_infl.drop(columns = ['influencer_name','follower_name'])\n",
    "\n",
    "#构造图：\n",
    "DG = nx.DiGraph()\n",
    "for index,row in df_infl.iterrows():\n",
    "    #连出来有向边：\n",
    "    DG.add_edges_from([(row['influencer_id'], row['follower_id'])])\n",
    "    #为节点赋‘genre’属性\n",
    "    DG.nodes[row['influencer_id']]['genre'] = row['influencer_main_genre']\n",
    "    DG.nodes[row['follower_id']]['genre'] = row['follower_main_genre']\n",
    "    #为节点赋‘active_start’属性\n",
    "    DG.nodes[row['influencer_id']]['active_start'] = row['influencer_active_start']\n",
    "    DG.nodes[row['follower_id']]['active_start'] = row['follower_active_start']\n",
    "\n",
    "###########去掉空行傻逼节点：477787 （其余信息都空）\n",
    "DG.remove_node(477787)"
   ]
  },
  {
   "cell_type": "code",
   "execution_count": null,
   "metadata": {},
   "outputs": [],
   "source": []
  },
  {
   "cell_type": "code",
   "execution_count": null,
   "metadata": {},
   "outputs": [],
   "source": [
    "#########################主成分分析，试图对音乐的维度降维#######################\n",
    "from sklearn.decomposition import PCA\n",
    "from sklearn.preprocessing import scale\n",
    "#导入数据集：\n",
    "df_music = pd.read_csv('full_music_data.csv')\n",
    "\n",
    "#去掉不进行主成分分析的列\n",
    "df_music = df_music.drop(columns = ['artist_names','artists_id','duration_ms','popularity','year','release_date','song_title (censored)'])\n",
    "\n",
    "#标准化\n",
    "data = scale(df_music.values)\n",
    "#PCA\n",
    "pca = PCA(n_components = 12) \n",
    "pca.fit(data)\n",
    "var = pca.explained_variance_ratio_ \n",
    "#输出解释方差比：\n",
    "var"
   ]
  },
  {
   "cell_type": "code",
   "execution_count": null,
   "metadata": {},
   "outputs": [],
   "source": [
    "#################### KNN #######################\n",
    "from sklearn import preprocessing\n",
    "from sklearn.model_selection import train_test_split\n",
    "from sklearn.neighbors import KNeighborsClassifier\n",
    "import pandas as pd\n",
    "#读取artist数据：\n",
    "df_art = pd.read_csv('data_by_artist.csv')\n",
    "\n",
    "#####标准化#####\n",
    "import math\n",
    "#定义一个函数，将某一列按照count进行加权标准化,输入数据集，想要标准化的列column，以及权重列weight（str格式）\n",
    "def standard(df, column, weight):\n",
    "    mean = (df[column] * df[weight]).sum()/df[weight].sum()\n",
    "    std = math.sqrt( ((df[column] - mean)**2  * df[weight]).sum()/df[weight].sum() )\n",
    "    df[column] = (df[column]-mean)/std\n",
    "\n",
    "columns_need = ['danceability','energy','valence','tempo','loudness','mode','key','acousticness','instrumentalness','liveness','speechiness']\n",
    "for column in columns_need:\n",
    "    standard(df_art,column,'count')\n",
    "\n",
    "df_art.set_index(['artist_id'], inplace=True)\n",
    "\n",
    "#制作艺术家和流派的索引集：\n",
    "people_genre = {}\n",
    "for node in DG.nodes:\n",
    "    people_genre[node] = DG.nodes[node]['genre']\n",
    "\n",
    "people_genre = pd.DataFrame.from_dict(people_genre,orient='index')\n",
    "people_genre.columns = ['genre']\n",
    "\n",
    "#调整列数\n",
    "df_art_vector =  df_art.drop(columns = ['artist_name','duration_ms','popularity'])\n",
    "df_art_vector = people_genre.join(df_art_vector)\n",
    "\n",
    "df = df_art_vector\n",
    "#分开features和class：\n",
    "x_data = df.drop(['genre','count'],axis=1)\n",
    "y_data = df['genre']\n",
    "MinMaxScaler = preprocessing.MinMaxScaler()\n",
    "X_data_minmax = MinMaxScaler.fit_transform(x_data)\n",
    "data = pd.DataFrame(X_data_minmax,columns=['danceability', 'energy', 'valence', 'tempo', 'loudness',\n",
    "       'mode', 'key','acousticness', 'instrumentalness', 'liveness',\n",
    "       'speechiness'])\n",
    "\n",
    "\n",
    "# 这里采用后边调参得到的最优参数:13,1,1\n",
    "X_train, X_test, y_train, y_test = train_test_split(data, y_data,test_size=0.1, random_state = 1)\n",
    "knn_clf=KNeighborsClassifier(n_neighbors = 13 , weights = 'distance',algorithm = 'brute', p = 1)\n",
    "knn_clf.fit(X_train,y_train)\n",
    "ypred=knn_clf.predict(X_test) #These are the predicted output values\n",
    "\n",
    "from sklearn.metrics import classification_report, confusion_matrix, accuracy_score\n",
    "result = confusion_matrix(y_test, ypred)\n",
    "print('Confusion Matrix:')\n",
    "print(result)\n",
    "result2 = accuracy_score(y_test,ypred)\n",
    "print('Accuracy:',result2)"
   ]
  },
  {
   "cell_type": "code",
   "execution_count": null,
   "metadata": {},
   "outputs": [],
   "source": [
    "\n"
   ]
  },
  {
   "cell_type": "code",
   "execution_count": null,
   "metadata": {},
   "outputs": [],
   "source": [
    "###########################调参####################\n",
    "def para(size,n,p):\n",
    "    X_train, X_test, y_train, y_test = train_test_split(data, y_data,test_size = size , random_state = 1)\n",
    "    knn_clf=KNeighborsClassifier(n_neighbors = n , weights = 'distance',algorithm = 'kd_tree' , p = p)\n",
    "    knn_clf.fit(X_train,y_train)\n",
    "    ypred=knn_clf.predict(X_test) \n",
    "    result2 = accuracy_score(y_test,ypred)\n",
    "    return result2\n",
    "\n",
    "for size in range(1,4):\n",
    "    for n in range(4,16):\n",
    "        for p in range(1,4):\n",
    "            print([size,n,p],t)"
   ]
  },
  {
   "cell_type": "code",
   "execution_count": null,
   "metadata": {},
   "outputs": [],
   "source": []
  }
 ],
 "metadata": {
  "kernelspec": {
   "display_name": "Python 3",
   "language": "python",
   "name": "python3"
  },
  "language_info": {
   "codemirror_mode": {
    "name": "ipython",
    "version": 3
   },
   "file_extension": ".py",
   "mimetype": "text/x-python",
   "name": "python",
   "nbconvert_exporter": "python",
   "pygments_lexer": "ipython3",
   "version": "3.8.3"
  }
 },
 "nbformat": 4,
 "nbformat_minor": 4
}
